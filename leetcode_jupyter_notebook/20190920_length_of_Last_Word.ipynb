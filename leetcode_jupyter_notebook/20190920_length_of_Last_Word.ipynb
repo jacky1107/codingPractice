{
 "cells": [
  {
   "cell_type": "code",
   "execution_count": 51,
   "metadata": {},
   "outputs": [
    {
     "data": {
      "text/plain": [
       "0"
      ]
     },
     "execution_count": 51,
     "metadata": {},
     "output_type": "execute_result"
    }
   ],
   "source": [
    "class Solution:\n",
    "    def lengthOfLastWord(self, s) -> int:\n",
    "        result = ''\n",
    "        new = []\n",
    "        for i in s:\n",
    "            if i != \" \":\n",
    "                result += i\n",
    "            else:\n",
    "                if result != '':\n",
    "                    new.append(result)\n",
    "                result = \"\"\n",
    "        return len(result) if len(new) == 0 or len(result) != 0 else len(new[-1])\n",
    "\n",
    "        \n",
    "s = \" \"\n",
    "sol = Solution()\n",
    "sol.lengthOfLastWord(s)"
   ]
  },
  {
   "cell_type": "code",
   "execution_count": null,
   "metadata": {},
   "outputs": [],
   "source": []
  }
 ],
 "metadata": {
  "kernelspec": {
   "display_name": "Python 3",
   "language": "python",
   "name": "python3"
  },
  "language_info": {
   "codemirror_mode": {
    "name": "ipython",
    "version": 3
   },
   "file_extension": ".py",
   "mimetype": "text/x-python",
   "name": "python",
   "nbconvert_exporter": "python",
   "pygments_lexer": "ipython3",
   "version": "3.7.3"
  }
 },
 "nbformat": 4,
 "nbformat_minor": 2
}
