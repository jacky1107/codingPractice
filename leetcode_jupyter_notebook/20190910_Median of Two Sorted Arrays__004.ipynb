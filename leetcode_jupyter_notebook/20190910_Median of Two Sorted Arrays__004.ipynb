{
 "cells": [
  {
   "cell_type": "code",
   "execution_count": 23,
   "metadata": {},
   "outputs": [
    {
     "name": "stdout",
     "output_type": "stream",
     "text": [
      "[1, 1, 2, 3, 5, 5]\n",
      "3\n"
     ]
    },
    {
     "data": {
      "text/plain": [
       "2.5"
      ]
     },
     "execution_count": 23,
     "metadata": {},
     "output_type": "execute_result"
    }
   ],
   "source": [
    "class Solution():    \n",
    "    def findMedianSortedArrays(self, nums1, nums2):\n",
    "        new = nums1 + nums2\n",
    "        new = sorted(new)\n",
    "        lenth = len(new)//2\n",
    "        return new[lenth] if len(new)%2==1 else (new[lenth-1]+new[lenth])/2\n",
    "        \n",
    "nums1 = [1,5,5]\n",
    "nums2 = [1,3,2]\n",
    "solution = Solution()\n",
    "solution.findMedianSortedArrays(nums1,nums2)"
   ]
  },
  {
   "cell_type": "code",
   "execution_count": 13,
   "metadata": {},
   "outputs": [],
   "source": []
  },
  {
   "cell_type": "code",
   "execution_count": null,
   "metadata": {},
   "outputs": [],
   "source": []
  },
  {
   "cell_type": "code",
   "execution_count": null,
   "metadata": {},
   "outputs": [],
   "source": []
  }
 ],
 "metadata": {
  "kernelspec": {
   "display_name": "Python 3",
   "language": "python",
   "name": "python3"
  },
  "language_info": {
   "codemirror_mode": {
    "name": "ipython",
    "version": 3
   },
   "file_extension": ".py",
   "mimetype": "text/x-python",
   "name": "python",
   "nbconvert_exporter": "python",
   "pygments_lexer": "ipython3",
   "version": "3.7.3"
  }
 },
 "nbformat": 4,
 "nbformat_minor": 2
}
