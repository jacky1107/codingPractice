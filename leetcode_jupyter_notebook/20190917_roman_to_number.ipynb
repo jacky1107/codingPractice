{
 "cells": [
  {
   "cell_type": "code",
   "execution_count": 16,
   "metadata": {},
   "outputs": [
    {
     "data": {
      "text/plain": [
       "9"
      ]
     },
     "execution_count": 16,
     "metadata": {},
     "output_type": "execute_result"
    }
   ],
   "source": [
    "class Solution:\n",
    "    def __init__(self, roman={'I':1,\n",
    "                              'V':5,\n",
    "                              'X':10,\n",
    "                              'L':50,\n",
    "                              'C':100,\n",
    "                              'D':500,\n",
    "                              'M':1000}):\n",
    "        self.roman = roman\n",
    "    def romanToInt(self, s):\n",
    "        s = s[::-1]\n",
    "        check = 1\n",
    "        result = 0\n",
    "        for i in s:\n",
    "            if self.roman[i] < check:\n",
    "                result -= self.roman[i]\n",
    "            else:\n",
    "                result += self.roman[i]\n",
    "            check = self.roman[i]\n",
    "        return result\n",
    "    \n",
    "s = 'IX'\n",
    "sol = Solution()\n",
    "sol.romanToInt(s)"
   ]
  },
  {
   "cell_type": "code",
   "execution_count": null,
   "metadata": {},
   "outputs": [],
   "source": []
  }
 ],
 "metadata": {
  "kernelspec": {
   "display_name": "Python 3",
   "language": "python",
   "name": "python3"
  },
  "language_info": {
   "codemirror_mode": {
    "name": "ipython",
    "version": 3
   },
   "file_extension": ".py",
   "mimetype": "text/x-python",
   "name": "python",
   "nbconvert_exporter": "python",
   "pygments_lexer": "ipython3",
   "version": "3.7.3"
  }
 },
 "nbformat": 4,
 "nbformat_minor": 2
}
