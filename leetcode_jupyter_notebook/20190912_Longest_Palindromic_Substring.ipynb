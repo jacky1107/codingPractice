{
 "cells": [
  {
   "cell_type": "code",
   "execution_count": 91,
   "metadata": {},
   "outputs": [
    {
     "name": "stdout",
     "output_type": "stream",
     "text": [
      "  o\n",
      "bb bb o\n",
      "aba aba o\n",
      "ababa ababa o\n",
      "a a o\n",
      "bb bb o\n",
      "aaaa aaaa o\n",
      "bab bab o\n",
      "a a o\n",
      "abcba abcba o\n",
      "ccc ccc o\n",
      "adada adada o\n"
     ]
    }
   ],
   "source": [
    "def longestPalindrom(string):\n",
    "    new_str = '$#' + '#'.join(string) + '#_'\n",
    "    center, lenth = 0, 0\n",
    "    result = []\n",
    "    for i in range(1, len(new_str)):\n",
    "        lenth = 0\n",
    "\n",
    "        while new_str[i-lenth] == new_str[i+lenth]:\n",
    "            if i-lenth == 0 or i + lenth == len(new_str)-1:\n",
    "                center = i\n",
    "                break\n",
    "            else:\n",
    "                lenth += 1\n",
    "                center = i\n",
    "        result.append(lenth)\n",
    "    \n",
    "    max_len = max(result)\n",
    "    ctr = result.index(max(result))+1\n",
    "    return new_str[ctr-max_len+1:ctr+max_len].replace('#', '')\n",
    "    \n",
    "string = ['','cbbd','aba','ababa', 'ac','bb','aaaa','babad','abcda','abcba','ccc','babadada']\n",
    "answer = ['', 'bb','aba','ababa',  'a',\"bb\",\"aaaa\",  \"bab\", \"a\", \"abcba\", \"ccc\", \"adada\"]\n",
    "# longestPalindrom(string[10])\n",
    "for i in range(len(string)):\n",
    "    if longestPalindrom(string[i]) == answer[i]:\n",
    "        print(longestPalindrom(string[i]), answer[i], 'o')\n",
    "    else:\n",
    "        print(longestPalindrom(string[i]), answer[i], 'x')"
   ]
  },
  {
   "cell_type": "code",
   "execution_count": null,
   "metadata": {},
   "outputs": [],
   "source": []
  },
  {
   "cell_type": "code",
   "execution_count": null,
   "metadata": {},
   "outputs": [],
   "source": []
  }
 ],
 "metadata": {
  "kernelspec": {
   "display_name": "Python 3",
   "language": "python",
   "name": "python3"
  },
  "language_info": {
   "codemirror_mode": {
    "name": "ipython",
    "version": 3
   },
   "file_extension": ".py",
   "mimetype": "text/x-python",
   "name": "python",
   "nbconvert_exporter": "python",
   "pygments_lexer": "ipython3",
   "version": "3.7.3"
  }
 },
 "nbformat": 4,
 "nbformat_minor": 2
}
