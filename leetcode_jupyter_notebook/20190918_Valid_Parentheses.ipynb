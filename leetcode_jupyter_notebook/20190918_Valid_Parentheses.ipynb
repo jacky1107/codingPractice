{
 "cells": [
  {
   "cell_type": "code",
   "execution_count": 237,
   "metadata": {},
   "outputs": [
    {
     "name": "stdout",
     "output_type": "stream",
     "text": [
      "False\n",
      "True\n",
      "False\n",
      "True\n",
      "False\n",
      "False\n",
      "True\n",
      "True\n",
      "True\n",
      "False\n",
      "True\n"
     ]
    }
   ],
   "source": [
    "class Solution:\n",
    "    def isValid(self, s) -> bool:\n",
    "        bracket = {\"(\":\")\",\n",
    "                   \"{\":\"}\",\n",
    "                   \"[\":\"]\"}\n",
    "        if s == \"\":\n",
    "            return True\n",
    "        elif len(s) % 2 != 0:\n",
    "            return False\n",
    "        temp = []\n",
    "        for i in s:\n",
    "            if i in bracket:\n",
    "                temp.append(i)\n",
    "            elif len(temp) == 0:\n",
    "                return False\n",
    "            elif bracket[temp[-1]] == i:\n",
    "                temp.pop()\n",
    "        return True if len(temp) == 0 else False\n",
    "\n",
    "s = [\"){\",\"[({(())}[()])]\",\"{(){\", \"{[]}\", \"([)]\", \"(]\", \"()[]{}\", \"(((((())))))\", \"()()()()\", \"(((((((()\", \"((()(())))\"]\n",
    "sol = Solution()\n",
    "# sol.isValid(s[0])\n",
    "for i in s:\n",
    "    print(sol.isValid(i))"
   ]
  },
  {
   "cell_type": "code",
   "execution_count": null,
   "metadata": {},
   "outputs": [],
   "source": []
  },
  {
   "cell_type": "code",
   "execution_count": null,
   "metadata": {},
   "outputs": [],
   "source": []
  }
 ],
 "metadata": {
  "kernelspec": {
   "display_name": "Python 3",
   "language": "python",
   "name": "python3"
  },
  "language_info": {
   "codemirror_mode": {
    "name": "ipython",
    "version": 3
   },
   "file_extension": ".py",
   "mimetype": "text/x-python",
   "name": "python",
   "nbconvert_exporter": "python",
   "pygments_lexer": "ipython3",
   "version": "3.7.3"
  }
 },
 "nbformat": 4,
 "nbformat_minor": 2
}
