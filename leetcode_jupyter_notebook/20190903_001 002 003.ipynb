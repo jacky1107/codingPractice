{
 "cells": [
  {
   "cell_type": "code",
   "execution_count": 3,
   "metadata": {},
   "outputs": [
    {
     "name": "stdout",
     "output_type": "stream",
     "text": [
      "(0, 2)\n",
      "[7, 0, 8]\n",
      "5\n"
     ]
    }
   ],
   "source": [
    "class Solution():\n",
    "    def twoSum(self, nums, target):\n",
    "        result = {}\n",
    "        for index, num in enumerate(nums):\n",
    "            if (target - num) in nums:\n",
    "                return index, nums.index(target-num)\n",
    "            result[num] = index\n",
    "        return None\n",
    "    \n",
    "    def addTwoNumbers(self, l1, l2):\n",
    "        x1 = ''\n",
    "        x2 = ''\n",
    "        for i in range(len(l1)):\n",
    "            x1 += str(l1[len(l1)-i-1])\n",
    "            x2 += str(l2[len(l1)-i-1])\n",
    "        \n",
    "        total = int(x1)+int(x2)\n",
    "        result = []\n",
    "        \n",
    "        for i in range(len(str(total))):\n",
    "            res = int(str(total)[len(str(total))-i-1])\n",
    "            result.append(res)\n",
    "            \n",
    "        return result\n",
    "    def lengthOfLongestSubstring(self, strings):\n",
    "        temp = ''\n",
    "        result = ''\n",
    "        len_last = 0\n",
    "        for string in strings:\n",
    "            if string not in temp:\n",
    "                temp += string\n",
    "                if len(temp) > len(result):\n",
    "                    result = temp\n",
    "            else:\n",
    "                check_longest = len(temp)\n",
    "                if check_longest > len(result):\n",
    "                    result = temp\n",
    "                repeat = temp.index(string)\n",
    "                temp = temp[repeat+1:]+string\n",
    "\n",
    "        return len(result)\n",
    "    \n",
    "    \n",
    "List = [2, 7, 11, 13]\n",
    "target = 13\n",
    "solution = Solution()\n",
    "result1 = solution.twoSum(List, target)\n",
    "    \n",
    "l1 = [2,4,3]\n",
    "l2 = [5,6,4]\n",
    "result2 = solution.addTwoNumbers(l1, l2)\n",
    "\n",
    "strings = \"safdvvv\"\n",
    "result3 = solution.lengthOfLongestSubstring(strings)\n",
    "\n",
    "print(result1)\n",
    "print(result2)\n",
    "print(result3)"
   ]
  },
  {
   "cell_type": "code",
   "execution_count": null,
   "metadata": {},
   "outputs": [],
   "source": []
  },
  {
   "cell_type": "code",
   "execution_count": null,
   "metadata": {},
   "outputs": [],
   "source": []
  },
  {
   "cell_type": "code",
   "execution_count": null,
   "metadata": {},
   "outputs": [],
   "source": []
  }
 ],
 "metadata": {
  "kernelspec": {
   "display_name": "Python 3",
   "language": "python",
   "name": "python3"
  },
  "language_info": {
   "codemirror_mode": {
    "name": "ipython",
    "version": 3
   },
   "file_extension": ".py",
   "mimetype": "text/x-python",
   "name": "python",
   "nbconvert_exporter": "python",
   "pygments_lexer": "ipython3",
   "version": "3.7.3"
  }
 },
 "nbformat": 4,
 "nbformat_minor": 2
}
