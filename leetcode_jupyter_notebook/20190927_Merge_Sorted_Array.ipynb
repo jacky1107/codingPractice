{
 "cells": [
  {
   "cell_type": "code",
   "execution_count": 100,
   "metadata": {},
   "outputs": [
    {
     "name": "stdout",
     "output_type": "stream",
     "text": [
      "[0, 1, 2, 2, 3, 9] [1, 2, 9]\n",
      "[1, 1, 2, 2, 3, 9] [1, 2, 9]\n"
     ]
    }
   ],
   "source": [
    "class Solution:\n",
    "    def merge(self, nums1, m, nums2, n):\n",
    "        \"\"\"\n",
    "        Do not return anything, modify nums1 in-place instead.\n",
    "        \"\"\"\n",
    "        while m > 0 and n > 0:\n",
    "            if nums1[m-1] < nums2[n-1]:\n",
    "                nums1[m-1+n] = nums2[n-1]\n",
    "                n -= 1\n",
    "            else:\n",
    "                nums1[m-1+n], nums1[m-1] = nums1[m-1], nums1[m-1+n]\n",
    "                m -= 1\n",
    "\n",
    "        if m == 0 and n > 0:\n",
    "            nums1[:n] = nums2[:n]\n",
    "        \n",
    "nums1 = [1,2,3,0,0,0]\n",
    "nums2 = [1,2,9]\n",
    "\n",
    "m = 3\n",
    "n = 3\n",
    "\n",
    "sol = Solution()\n",
    "sol.merge(nums1, m, nums2, n)"
   ]
  }
 ],
 "metadata": {
  "kernelspec": {
   "display_name": "Python 3",
   "language": "python",
   "name": "python3"
  },
  "language_info": {
   "codemirror_mode": {
    "name": "ipython",
    "version": 3
   },
   "file_extension": ".py",
   "mimetype": "text/x-python",
   "name": "python",
   "nbconvert_exporter": "python",
   "pygments_lexer": "ipython3",
   "version": "3.7.3"
  }
 },
 "nbformat": 4,
 "nbformat_minor": 2
}
