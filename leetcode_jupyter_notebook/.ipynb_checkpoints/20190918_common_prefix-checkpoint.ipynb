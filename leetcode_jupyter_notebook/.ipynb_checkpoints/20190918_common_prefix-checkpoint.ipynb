{
 "cells": [
  {
   "cell_type": "code",
   "execution_count": 185,
   "metadata": {},
   "outputs": [
    {
     "data": {
      "text/plain": [
       "''"
      ]
     },
     "execution_count": 185,
     "metadata": {},
     "output_type": "execute_result"
    }
   ],
   "source": [
    "class Solution:\n",
    "    def longestCommonPrefix(self, lst) -> str:\n",
    "        lst = list(set(lst))\n",
    "        if \"\" in lst or len(lst) == 0:\n",
    "            return \"\"\n",
    "        \n",
    "        lst = [i for i in lst if i != \"\"]\n",
    "        \n",
    "        if len(lst) == 1:\n",
    "            return lst[-1]\n",
    "\n",
    "        check = lst[0]\n",
    "        result = ''\n",
    "        for i in lst[1:]:\n",
    "            if len(check) >= len(i):\n",
    "                check = i\n",
    "\n",
    "        lst.remove(check)\n",
    "        for i in range(len(check), 0, -1):\n",
    "            count = 0\n",
    "            for j in lst:\n",
    "                if check[:i] == j[:i]:\n",
    "                    count += 1\n",
    "                if count == len(lst):\n",
    "                    return check[:i]\n",
    "        return \"\"\n",
    "\n",
    "\n",
    "\n",
    "\n",
    "lst = [\"\", \"\",\"b\"]\n",
    "# lst = [\"dog\",\"racecar\",\"car\"]\n",
    "# lst = [\"\"]\n",
    "# lst = []\n",
    "# lst = [\"c\",\"c\"]\n",
    "# lst = [\"flower\",\"flow\",\"flight\"]\n",
    "# lst = [\"aa\",\"ab\"]\n",
    "# lst = [\"ca\",'a']\n",
    "sol = Solution()\n",
    "sol.longestCommonPrefix(lst)"
   ]
  },
  {
   "cell_type": "code",
   "execution_count": 78,
   "metadata": {},
   "outputs": [
    {
     "name": "stdout",
     "output_type": "stream",
     "text": [
      "4\n",
      "3\n",
      "2\n"
     ]
    }
   ],
   "source": [
    "for i in range(4, 1, -1):\n",
    "    print(i)"
   ]
  },
  {
   "cell_type": "code",
   "execution_count": null,
   "metadata": {},
   "outputs": [],
   "source": []
  }
 ],
 "metadata": {
  "kernelspec": {
   "display_name": "Python 3",
   "language": "python",
   "name": "python3"
  },
  "language_info": {
   "codemirror_mode": {
    "name": "ipython",
    "version": 3
   },
   "file_extension": ".py",
   "mimetype": "text/x-python",
   "name": "python",
   "nbconvert_exporter": "python",
   "pygments_lexer": "ipython3",
   "version": "3.7.3"
  }
 },
 "nbformat": 4,
 "nbformat_minor": 2
}
