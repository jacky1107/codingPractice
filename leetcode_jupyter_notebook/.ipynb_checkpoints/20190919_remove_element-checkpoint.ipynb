{
 "cells": [
  {
   "cell_type": "code",
   "execution_count": 7,
   "metadata": {},
   "outputs": [
    {
     "name": "stdout",
     "output_type": "stream",
     "text": [
      "[2, 2, 2, 3]\n",
      "2\n"
     ]
    }
   ],
   "source": [
    "class Solution:\n",
    "    def removeDuplicates(self, lst):\n",
    "        index = 1\n",
    "        start = 0\n",
    "        for i in range(len(lst)):\n",
    "            if lst[start] != lst[i]:\n",
    "                lst[index] = lst[i]\n",
    "                index += 1\n",
    "                start = i\n",
    "        return index\n",
    "    def removeElement(self, lst, val):\n",
    "        index = 0\n",
    "        for i in range(len(lst)):\n",
    "            if lst[i] != val:\n",
    "                lst[index] = lst[i]\n",
    "                index += 1\n",
    "        return index\n",
    "\n",
    "\n",
    "\n",
    "lst = [3,2,2,3]\n",
    "sol = Solution()\n",
    "sol.removeElement(lst, 3)\n"
   ]
  },
  {
   "cell_type": "code",
   "execution_count": null,
   "metadata": {},
   "outputs": [],
   "source": []
  }
 ],
 "metadata": {
  "kernelspec": {
   "display_name": "Python 3",
   "language": "python",
   "name": "python3"
  },
  "language_info": {
   "codemirror_mode": {
    "name": "ipython",
    "version": 3
   },
   "file_extension": ".py",
   "mimetype": "text/x-python",
   "name": "python",
   "nbconvert_exporter": "python",
   "pygments_lexer": "ipython3",
   "version": "3.7.3"
  }
 },
 "nbformat": 4,
 "nbformat_minor": 2
}
