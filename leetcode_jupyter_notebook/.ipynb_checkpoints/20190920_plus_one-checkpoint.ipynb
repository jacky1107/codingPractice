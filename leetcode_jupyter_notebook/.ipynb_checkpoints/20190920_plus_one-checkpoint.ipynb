{
 "cells": [
  {
   "cell_type": "code",
   "execution_count": 58,
   "metadata": {},
   "outputs": [
    {
     "data": {
      "text/plain": [
       "[1, 0]"
      ]
     },
     "execution_count": 58,
     "metadata": {},
     "output_type": "execute_result"
    }
   ],
   "source": [
    "class Solution:\n",
    "    def plusOne(self, digits):\n",
    "        i = 1\n",
    "        button = True\n",
    "        while button:\n",
    "            digits[-i] += 1\n",
    "            if digits[-i] > 9:\n",
    "                digits[-i] = 0\n",
    "                if i == len(digits) and digits[0] == 0:\n",
    "                    digits.insert(0, 1)\n",
    "                    button = False\n",
    "                \n",
    "            else:\n",
    "                button = False\n",
    "            i += 1\n",
    "        return digits\n",
    "\n",
    "digits = [9]\n",
    "sol = Solution()\n",
    "sol.plusOne(digits)\n",
    "        "
   ]
  },
  {
   "cell_type": "code",
   "execution_count": null,
   "metadata": {},
   "outputs": [],
   "source": []
  }
 ],
 "metadata": {
  "kernelspec": {
   "display_name": "Python 3",
   "language": "python",
   "name": "python3"
  },
  "language_info": {
   "codemirror_mode": {
    "name": "ipython",
    "version": 3
   },
   "file_extension": ".py",
   "mimetype": "text/x-python",
   "name": "python",
   "nbconvert_exporter": "python",
   "pygments_lexer": "ipython3",
   "version": "3.7.3"
  }
 },
 "nbformat": 4,
 "nbformat_minor": 2
}
