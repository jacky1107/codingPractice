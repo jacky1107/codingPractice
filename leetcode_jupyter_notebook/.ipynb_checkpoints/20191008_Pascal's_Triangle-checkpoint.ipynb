{
 "cells": [
  {
   "cell_type": "code",
   "execution_count": 128,
   "metadata": {},
   "outputs": [
    {
     "name": "stdout",
     "output_type": "stream",
     "text": [
      "[[1]]\n",
      "[[1, 1], [1, 1]]\n",
      "[[1, 1], [1, 1], [1, 1]]\n",
      "[[1, 1], [1, 1], [1, 1], [1, 1]]\n"
     ]
    }
   ],
   "source": [
    "import numpy as np\n",
    "\n",
    "class Solution:\n",
    "    def generate(self, numRows):\n",
    "        x = [[1]]\n",
    "        for index in range(numRows-1):\n",
    "            print(x)\n",
    "            x = self.recu(x, index)\n",
    "            \n",
    "            \n",
    "    def recu(self, x, index):\n",
    "        \n",
    "        for i in range(len(x[index])):\n",
    "#             print(i, len(x[index]))\n",
    "            if i == 0:\n",
    "                x.append(x[i])\n",
    "                if i == (len(x[index]) - 1):\n",
    "                    x[1].append(1)\n",
    "                continue\n",
    "            \n",
    "        \n",
    "        return x\n",
    "    \n",
    "sol = Solution()\n",
    "sol.generate(5)"
   ]
  },
  {
   "cell_type": "code",
   "execution_count": 115,
   "metadata": {},
   "outputs": [
    {
     "data": {
      "text/plain": [
       "[[1], [1, 1, 1]]"
      ]
     },
     "execution_count": 115,
     "metadata": {},
     "output_type": "execute_result"
    }
   ],
   "source": [
    "x = [[1]]\n",
    "x.append([1])\n",
    "x[-1].append(1)\n",
    "x[1].append(1)\n",
    "x"
   ]
  },
  {
   "cell_type": "code",
   "execution_count": null,
   "metadata": {},
   "outputs": [],
   "source": []
  }
 ],
 "metadata": {
  "kernelspec": {
   "display_name": "Python 3",
   "language": "python",
   "name": "python3"
  },
  "language_info": {
   "codemirror_mode": {
    "name": "ipython",
    "version": 3
   },
   "file_extension": ".py",
   "mimetype": "text/x-python",
   "name": "python",
   "nbconvert_exporter": "python",
   "pygments_lexer": "ipython3",
   "version": "3.7.3"
  }
 },
 "nbformat": 4,
 "nbformat_minor": 2
}
