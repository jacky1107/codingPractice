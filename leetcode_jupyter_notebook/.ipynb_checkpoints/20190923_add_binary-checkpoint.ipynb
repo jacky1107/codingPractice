{
 "cells": [
  {
   "cell_type": "code",
   "execution_count": 124,
   "metadata": {},
   "outputs": [
    {
     "data": {
      "text/plain": [
       "'110'"
      ]
     },
     "execution_count": 124,
     "metadata": {},
     "output_type": "execute_result"
    }
   ],
   "source": [
    "class Solution:\n",
    "    def addBinary(self, a, b) -> str:\n",
    "        result = ''\n",
    "        temp = int(a) + int(b)\n",
    "        i = 0\n",
    "        while i < len(str(temp)):\n",
    "            if temp // 10**i % 10 > 1:\n",
    "                temp += 10**(i+1)\n",
    "            result = str(temp // 10**i % 10 % 2) + result\n",
    "            i += 1\n",
    "        return result\n",
    "\n",
    "a = '11'\n",
    "b = '11'\n",
    "sol = Solution()\n",
    "sol.addBinary(a, b)\n"
   ]
  },
  {
   "cell_type": "code",
   "execution_count": 66,
   "metadata": {},
   "outputs": [
    {
     "data": {
      "text/plain": [
       "0"
      ]
     },
     "execution_count": 66,
     "metadata": {},
     "output_type": "execute_result"
    }
   ],
   "source": [
    "a = 213457890\n",
    "\n",
    "a // 100000000 % 10\n",
    "a // 10000000 % 10\n",
    "a // 1000000 % 10\n",
    "a // 100000 % 10\n",
    "a // 10000 % 10\n",
    "a // 1000 % 10\n",
    "a // 100 % 10\n",
    "a // 10 % 10\n",
    "a // 1 % 10"
   ]
  },
  {
   "cell_type": "code",
   "execution_count": null,
   "metadata": {},
   "outputs": [],
   "source": [
    "class Solution(object):\n",
    "    def addBinary(self, a, b):\n",
    "        \"\"\"\n",
    "        :type a: str\n",
    "        :type b: str\n",
    "        :rtype: str\n",
    "        \"\"\"\n",
    "        if not a or not b:\n",
    "            return a if a else b\n",
    "        if a[-1] == '1' and b[-1] == '1':\n",
    "            return self.addBinary(self.addBinary(a[:-1], b[:-1]), '1') + '0'\n",
    "        elif a[-1] == '0' and b[-1] == '0':\n",
    "            return self.addBinary(a[:-1], b[:-1]) + '0'\n",
    "        else:\n",
    "            return self.addBinary(a[:-1], b[:-1]) + '1'\n"
   ]
  }
 ],
 "metadata": {
  "kernelspec": {
   "display_name": "Python 3",
   "language": "python",
   "name": "python3"
  },
  "language_info": {
   "codemirror_mode": {
    "name": "ipython",
    "version": 3
   },
   "file_extension": ".py",
   "mimetype": "text/x-python",
   "name": "python",
   "nbconvert_exporter": "python",
   "pygments_lexer": "ipython3",
   "version": "3.7.3"
  }
 },
 "nbformat": 4,
 "nbformat_minor": 2
}
