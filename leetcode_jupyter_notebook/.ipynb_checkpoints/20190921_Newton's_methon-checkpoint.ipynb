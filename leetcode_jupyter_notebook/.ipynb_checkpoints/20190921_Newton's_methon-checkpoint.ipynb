{
 "cells": [
  {
   "cell_type": "code",
   "execution_count": 4,
   "metadata": {},
   "outputs": [
    {
     "data": {
      "text/plain": [
       "46339"
      ]
     },
     "execution_count": 4,
     "metadata": {},
     "output_type": "execute_result"
    }
   ],
   "source": [
    "import matplotlib.pyplot as plt\n",
    "import numpy as np\n",
    "from sympy import diff, Symbol\n",
    "\n",
    "class Solution:\n",
    "    def mySqrt(self, x):\n",
    "        b = x\n",
    "        past = x\n",
    "        if x == 0:\n",
    "            return 0\n",
    "        while True:\n",
    "            x = x - (self.f(x,b)/self.df(x))\n",
    "            if past - x < 1: return int(x)\n",
    "            past = x\n",
    "\n",
    "    def f(self, x, b):\n",
    "        return x**2 - b\n",
    "\n",
    "    def df(self, x):\n",
    "        return 2*x\n",
    "\n",
    "sol = Solution()\n",
    "sol.mySqrt(x=2147395599)"
   ]
  },
  {
   "cell_type": "code",
   "execution_count": null,
   "metadata": {},
   "outputs": [],
   "source": [
    "#     def Newton_methon(x, n):\n",
    "#         i = 1\n",
    "#         b = x\n",
    "#         while i < n:\n",
    "#             x = x - (f(x,b)/df(x))\n",
    "#             i += 1\n",
    "#         return int(x)"
   ]
  },
  {
   "cell_type": "code",
   "execution_count": null,
   "metadata": {},
   "outputs": [],
   "source": []
  }
 ],
 "metadata": {
  "kernelspec": {
   "display_name": "Python 3",
   "language": "python",
   "name": "python3"
  },
  "language_info": {
   "codemirror_mode": {
    "name": "ipython",
    "version": 3
   },
   "file_extension": ".py",
   "mimetype": "text/x-python",
   "name": "python",
   "nbconvert_exporter": "python",
   "pygments_lexer": "ipython3",
   "version": "3.7.3"
  }
 },
 "nbformat": 4,
 "nbformat_minor": 2
}
