{
 "cells": [
  {
   "cell_type": "code",
   "execution_count": 84,
   "metadata": {},
   "outputs": [
    {
     "name": "stdout",
     "output_type": "stream",
     "text": [
      "3 [1, 2]\n"
     ]
    }
   ],
   "source": [
    "%matplotlib inline\n",
    "import numpy as np\n",
    "import pandas as pd\n",
    "\n",
    "given_N = 3\n",
    "given_step = [1,2]\n",
    "def climb_staircase(given_N, given_step):\n",
    "    count = {}\n",
    "    temp = []\n",
    "    print(given_N, given_step)\n",
    "    \n",
    "climb_staircase(given_N, given_step)\n"
   ]
  },
  {
   "cell_type": "code",
   "execution_count": 79,
   "metadata": {},
   "outputs": [
    {
     "name": "stdout",
     "output_type": "stream",
     "text": [
      "[1, 1, 0, 0, 0]\n",
      "[1, 1, 2, 0, 0]\n",
      "[1, 1, 2, 3, 0]\n",
      "[1, 1, 2, 3, 5]\n"
     ]
    },
    {
     "data": {
      "text/plain": [
       "5"
      ]
     },
     "execution_count": 79,
     "metadata": {},
     "output_type": "execute_result"
    }
   ],
   "source": [
    "def staircase(n, X):\n",
    "    cache = [0 for _ in range(n + 1)]\n",
    "    cache[0] = 1\n",
    "    for i in range(1, n + 1):\n",
    "        cache[i] += sum(cache[i - x] for x in X if i - x >= 0)\n",
    "        print(cache)\n",
    "    return cache[n]\n",
    "        \n",
    "    \n",
    "staircase(n=4, X=[1,2])"
   ]
  },
  {
   "cell_type": "code",
   "execution_count": null,
   "metadata": {},
   "outputs": [],
   "source": [
    "# Good morning! Here's your coding interview problem for today.\n",
    "\n",
    "# This problem was recently asked by Google.\n",
    "\n",
    "# Given a list of numbers and a number k, return whether any two numbers from the list add up to k.\n",
    "\n",
    "# For example, given [10, 15, 3, 7] and k of 17, return true since 10 + 7 is 17.\n",
    "\n",
    "# Bonus: Can you do this in one pass?"
   ]
  },
  {
   "cell_type": "code",
   "execution_count": 209,
   "metadata": {},
   "outputs": [
    {
     "data": {
      "text/plain": [
       "False"
      ]
     },
     "execution_count": 209,
     "metadata": {},
     "output_type": "execute_result"
    }
   ],
   "source": [
    "x = [10,15,3,7]\n",
    "k = 19\n",
    "y = any([x[i]+x[j]==k for i in range(len(x)) for j in range(i)])\n",
    "y"
   ]
  },
  {
   "cell_type": "code",
   "execution_count": null,
   "metadata": {},
   "outputs": [],
   "source": []
  },
  {
   "cell_type": "code",
   "execution_count": null,
   "metadata": {},
   "outputs": [],
   "source": []
  }
 ],
 "metadata": {
  "kernelspec": {
   "display_name": "Python 3",
   "language": "python",
   "name": "python3"
  },
  "language_info": {
   "codemirror_mode": {
    "name": "ipython",
    "version": 3
   },
   "file_extension": ".py",
   "mimetype": "text/x-python",
   "name": "python",
   "nbconvert_exporter": "python",
   "pygments_lexer": "ipython3",
   "version": "3.7.3"
  }
 },
 "nbformat": 4,
 "nbformat_minor": 2
}
