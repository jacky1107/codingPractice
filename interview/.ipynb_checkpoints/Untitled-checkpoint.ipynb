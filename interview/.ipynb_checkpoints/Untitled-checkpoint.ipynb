{
 "cells": [
  {
   "cell_type": "code",
   "execution_count": 46,
   "metadata": {},
   "outputs": [
    {
     "name": "stdout",
     "output_type": "stream",
     "text": [
      "1 3 2 3 4 5\n",
      "-1\n"
     ]
    }
   ],
   "source": [
    "a = input()\n",
    "a = a.split(\" \")\n",
    "t = int(a[0])\n",
    "a = [int(a[i]) for i in range(1, len(a))]\n",
    "n, m, k = 0, 1, 0\n",
    "\n",
    "for i in range(t):\n",
    "    k += n + 2\n",
    "    m = a[k-1]\n",
    "    n = a[k-2]\n",
    "    if k+n > len(a): coins = [int(a[j]) for j in range(k,k+n-1)]\n",
    "    else: coins = [int(a[j]) for j in range(k,k+n)]\n",
    "    coins = sorted(coins, reverse=True)\n",
    "    outputs, c, o = 0, 0, 0\n",
    "    while c != m:\n",
    "        for index in range(o, len(coins)):\n",
    "            r = (m - c) // coins[index]\n",
    "            if r != 0:\n",
    "                c += r * coins[index]\n",
    "                outputs += r\n",
    "        if c != m:\n",
    "            outputs, c = 0, 0\n",
    "            o += 1\n",
    "        else:\n",
    "            print(outputs)\n",
    "\n",
    "        if o > m:\n",
    "            print(-1)\n",
    "            break\n",
    "        \n",
    "# 1 3 11 1 2 5\n",
    "# 2 3 11 1 2 5 4 18 1 5 10 12\n",
    "# 3 3 11 1 2 5 4 18 1 5 10 12 4 20 1 2 3 4\n"
   ]
  },
  {
   "cell_type": "code",
   "execution_count": 52,
   "metadata": {},
   "outputs": [
    {
     "name": "stdout",
     "output_type": "stream",
     "text": [
      ".** .*. ... *** .** ..*\n"
     ]
    },
    {
     "data": {
      "text/plain": [
       "['.**', '.*.', '...']"
      ]
     },
     "execution_count": 52,
     "metadata": {},
     "output_type": "execute_result"
    }
   ],
   "source": [
    "#*** *** ***\n",
    "#.** .*. ...\n",
    "p = input().split(\" \")\n",
    "p1 = p[:3]\n",
    "p2 = p[3:]\n",
    "\n",
    "\n"
   ]
  },
  {
   "cell_type": "code",
   "execution_count": 53,
   "metadata": {},
   "outputs": [
    {
     "data": {
      "text/plain": [
       "['***', '.**', '..*']"
      ]
     },
     "execution_count": 53,
     "metadata": {},
     "output_type": "execute_result"
    }
   ],
   "source": [
    "p2"
   ]
  },
  {
   "cell_type": "code",
   "execution_count": null,
   "metadata": {},
   "outputs": [],
   "source": []
  },
  {
   "cell_type": "code",
   "execution_count": null,
   "metadata": {},
   "outputs": [],
   "source": []
  },
  {
   "cell_type": "code",
   "execution_count": null,
   "metadata": {},
   "outputs": [],
   "source": []
  },
  {
   "cell_type": "code",
   "execution_count": null,
   "metadata": {},
   "outputs": [],
   "source": []
  },
  {
   "cell_type": "code",
   "execution_count": null,
   "metadata": {},
   "outputs": [],
   "source": []
  },
  {
   "cell_type": "code",
   "execution_count": null,
   "metadata": {},
   "outputs": [],
   "source": []
  },
  {
   "cell_type": "code",
   "execution_count": null,
   "metadata": {},
   "outputs": [],
   "source": []
  }
 ],
 "metadata": {
  "kernelspec": {
   "display_name": "Python 3",
   "language": "python",
   "name": "python3"
  },
  "language_info": {
   "codemirror_mode": {
    "name": "ipython",
    "version": 3
   },
   "file_extension": ".py",
   "mimetype": "text/x-python",
   "name": "python",
   "nbconvert_exporter": "python",
   "pygments_lexer": "ipython3",
   "version": "3.7.4"
  }
 },
 "nbformat": 4,
 "nbformat_minor": 2
}
