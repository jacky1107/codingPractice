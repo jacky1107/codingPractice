{
 "cells": [
  {
   "cell_type": "code",
   "execution_count": 53,
   "metadata": {},
   "outputs": [],
   "source": [
    "answers = [9, 10, 14, 18, 21, 28, 31, 40, 44,1,2,3]\n",
    "weights = {0:0, 10:6, 20:2, 40:1, 41:100}\n",
    "count = 0\n",
    "scores = []\n",
    "def scores_weights(answers, weights):\n",
    "    global count\n",
    "    global scores\n",
    "    score = 0\n",
    "    buffer = []\n",
    "    answers = sorted(answers)\n",
    "    if count == len(answers):\n",
    "        return scores\n",
    "    for weight in weights:\n",
    "        buffer.append(weight)\n",
    "        if len(buffer) == 2:\n",
    "            if answers[count] > buffer[0] and answers[count] <= buffer[1]:\n",
    "                score += (answers[count]-buffer[0])*weights[weight]\n",
    "            elif answers[count] > buffer[0] and answers[count] > buffer[1]:\n",
    "                score += (buffer[1]-buffer[0])*weights[weight]\n",
    "            else:\n",
    "                break\n",
    "            buffer[0] = buffer[1]\n",
    "            buffer.pop()\n",
    "        \n",
    "    if score >= 100:\n",
    "        score = 100\n",
    "    scores.append(score)\n",
    "    count += 1\n",
    "    return scores_weights(answers, weights)"
   ]
  },
  {
   "cell_type": "code",
   "execution_count": 54,
   "metadata": {
    "scrolled": true
   },
   "outputs": [
    {
     "data": {
      "text/plain": [
       "[6, 12, 18, 54, 60, 68, 76, 81, 88, 91, 100, 100]"
      ]
     },
     "execution_count": 54,
     "metadata": {},
     "output_type": "execute_result"
    }
   ],
   "source": [
    "scores_weights(answers, weights)"
   ]
  },
  {
   "cell_type": "code",
   "execution_count": null,
   "metadata": {},
   "outputs": [],
   "source": []
  }
 ],
 "metadata": {
  "kernelspec": {
   "display_name": "Python 3",
   "language": "python",
   "name": "python3"
  },
  "language_info": {
   "codemirror_mode": {
    "name": "ipython",
    "version": 3
   },
   "file_extension": ".py",
   "mimetype": "text/x-python",
   "name": "python",
   "nbconvert_exporter": "python",
   "pygments_lexer": "ipython3",
   "version": "3.7.3"
  }
 },
 "nbformat": 4,
 "nbformat_minor": 2
}
