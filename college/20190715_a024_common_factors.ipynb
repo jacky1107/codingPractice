{
 "cells": [
  {
   "cell_type": "code",
   "execution_count": 162,
   "metadata": {},
   "outputs": [
    {
     "data": {
      "text/plain": [
       "256"
      ]
     },
     "execution_count": 162,
     "metadata": {},
     "output_type": "execute_result"
    }
   ],
   "source": [
    "given_int = [512, 1024, 256]\n",
    "\n",
    "def common_factor(given_int):\n",
    "    factors = {}\n",
    "    all_fac = []\n",
    "    temp = []\n",
    "    same = 0\n",
    "    given_int = sorted(given_int)\n",
    "    for index in range(1,given_int[-1]+1):\n",
    "        for number in given_int:\n",
    "            if index > number:\n",
    "                continue\n",
    "            if number%index == 0:\n",
    "                factors[number] = index\n",
    "                temp.append(factors[number])\n",
    "            if len(temp)==len(given_int) and temp[-1] > same:\n",
    "                same = temp[-1]\n",
    "        temp = []\n",
    "    return same\n",
    "\n",
    "common_factor(given_int)"
   ]
  },
  {
   "cell_type": "code",
   "execution_count": null,
   "metadata": {},
   "outputs": [],
   "source": []
  }
 ],
 "metadata": {
  "kernelspec": {
   "display_name": "Python 3",
   "language": "python",
   "name": "python3"
  },
  "language_info": {
   "codemirror_mode": {
    "name": "ipython",
    "version": 3
   },
   "file_extension": ".py",
   "mimetype": "text/x-python",
   "name": "python",
   "nbconvert_exporter": "python",
   "pygments_lexer": "ipython3",
   "version": "3.7.3"
  }
 },
 "nbformat": 4,
 "nbformat_minor": 2
}
