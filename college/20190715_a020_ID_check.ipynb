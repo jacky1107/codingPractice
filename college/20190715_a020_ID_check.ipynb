{
 "cells": [
  {
   "cell_type": "markdown",
   "metadata": {},
   "source": [
    "我國的身分證字號有底下這樣的規則，因此對於任意輸入的身分證字號可以有一些基本的判斷原則，請您來判斷一個身分證字號是否是正常的號碼(不代表確有此號、此人)。\n",
    "\n",
    "(1) 英文代號以下表轉換成數字\n",
    "\n",
    "      A=10 台北市     J=18 新竹縣     S=26 高雄縣\n",
    "      B=11 台中市     K=19 苗栗縣     T=27 屏東縣\n",
    "      C=12 基隆市     L=20 台中縣     U=28 花蓮縣\n",
    "      D=13 台南市     M=21 南投縣     V=29 台東縣\n",
    "      E=14 高雄市     N=22 彰化縣     W=32 金門縣\n",
    "      F=15 台北縣     O=35 新竹市     X=30 澎湖縣\n",
    "      G=16 宜蘭縣     P=23 雲林縣     Y=31 陽明山\n",
    "      H=17 桃園縣     Q=24 嘉義縣     Z=33 連江縣\n",
    "      I=34 嘉義市     R=25 台南縣\n",
    "\n",
    "  (2) 英文轉成的數字, 個位數乘９再加上十位數的數字\n",
    "\n",
    "  (3) 各數字從右到左依次乘１、２、３、４．．．．８\n",
    "\n",
    "  (4) 求出(2),(3) 及最後一碼的和\n",
    "\n",
    "  (5) (4)除10 若整除，則為 real，否則為 fake\n",
    "\n",
    " 例： T112663836\n",
    "\n",
    "2 + 7*9 + 1*8 + 1*7 + 2*6 + 6*5 + 6*4 + 3*3 + 8*2 + 3*1 + 6 = 180\n",
    "\n",
    "除以 10 整除，因此為 real "
   ]
  },
  {
   "cell_type": "markdown",
   "metadata": {},
   "source": [
    "#T112663836 #real\n",
    "#S154287863 #fake"
   ]
  },
  {
   "cell_type": "code",
   "execution_count": 5,
   "metadata": {
    "scrolled": true
   },
   "outputs": [
    {
     "name": "stdout",
     "output_type": "stream",
     "text": [
      "fake\n"
     ]
    }
   ],
   "source": [
    "import random\n",
    "\n",
    "ids = 'B223292807'\n",
    "\n",
    "def id_check(ids):\n",
    "    alpha_num = {}\n",
    "    count = 0\n",
    "    others = [34, 35, 32, 33]\n",
    "    for number in range(65,91):\n",
    "        alpha = chr(number)\n",
    "        if alpha == 'I' or alpha == 'O' or alpha == 'W' or alpha == 'Z':\n",
    "            alpha_num[alpha] = others[count]\n",
    "            count += 1\n",
    "        else:\n",
    "            alpha_num[alpha] = number-(65-10)-count\n",
    "\n",
    "    ids = ids[::-1]\n",
    "    numbers = 0\n",
    "    for ID in range(10):\n",
    "        if ids[ID] in alpha_num:\n",
    "            numbers = numbers + (alpha_num[ids[ID]]//10) + (alpha_num[ids[ID]]%10)*9 + int(ids[0])\n",
    "            break\n",
    "        numbers += int(ids[ID])*ID\n",
    "\n",
    "    if numbers%10 == 0:\n",
    "        print('real')\n",
    "    else:\n",
    "        print('fake')\n",
    "        \n",
    "id_check(ids)"
   ]
  },
  {
   "cell_type": "code",
   "execution_count": null,
   "metadata": {},
   "outputs": [],
   "source": []
  }
 ],
 "metadata": {
  "kernelspec": {
   "display_name": "Python 3",
   "language": "python",
   "name": "python3"
  },
  "language_info": {
   "codemirror_mode": {
    "name": "ipython",
    "version": 3
   },
   "file_extension": ".py",
   "mimetype": "text/x-python",
   "name": "python",
   "nbconvert_exporter": "python",
   "pygments_lexer": "ipython3",
   "version": "3.7.3"
  }
 },
 "nbformat": 4,
 "nbformat_minor": 2
}
