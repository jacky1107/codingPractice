{
 "cells": [
  {
   "cell_type": "code",
   "execution_count": 24,
   "metadata": {},
   "outputs": [
    {
     "data": {
      "text/plain": [
       "[6000, 8000]"
      ]
     },
     "execution_count": 24,
     "metadata": {},
     "output_type": "execute_result"
    }
   ],
   "source": [
    "def T(n, list1):\n",
    "    sor1 = sorted(list1)\n",
    "    last = sor1[0]\n",
    "    lenth = int((max(sor1) - min(sor1)) / (len(sor1) - 1))\n",
    "    res = []\n",
    "    for i in sor1[1:]:\n",
    "        if abs(i-last) != lenth and abs(i-last) != 0:\n",
    "            res.append(last+lenth)\n",
    "        if i == last:\n",
    "            res.append(i)\n",
    "        last = i\n",
    "    return res\n",
    "\n",
    "T(2, [7, 9, 1, 3, 7])\n",
    "T(2, [5000,8000,9000,8000,7000])"
   ]
  },
  {
   "cell_type": "code",
   "execution_count": null,
   "metadata": {},
   "outputs": [],
   "source": []
  }
 ],
 "metadata": {
  "kernelspec": {
   "display_name": "Python 3",
   "language": "python",
   "name": "python3"
  },
  "language_info": {
   "codemirror_mode": {
    "name": "ipython",
    "version": 3
   },
   "file_extension": ".py",
   "mimetype": "text/x-python",
   "name": "python",
   "nbconvert_exporter": "python",
   "pygments_lexer": "ipython3",
   "version": "3.7.3"
  }
 },
 "nbformat": 4,
 "nbformat_minor": 2
}
